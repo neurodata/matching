{
 "cells": [
  {
   "cell_type": "markdown",
   "id": "e586087b",
   "metadata": {},
   "source": [
    "# Left/Right stereotypy in Kenyon cells"
   ]
  },
  {
   "cell_type": "code",
   "execution_count": 1,
   "id": "5b900bb8",
   "metadata": {
    "execution": {
     "iopub.execute_input": "2022-04-29T13:49:31.185559Z",
     "iopub.status.busy": "2022-04-29T13:49:31.185333Z",
     "iopub.status.idle": "2022-04-29T13:49:43.407620Z",
     "shell.execute_reply": "2022-04-29T13:49:43.406906Z"
    },
    "tags": [
     "hide-input"
    ]
   },
   "outputs": [],
   "source": [
    "\n",
    "import datetime\n",
    "import time\n",
    "\n",
    "import matplotlib.pyplot as plt\n",
    "import numpy as np\n",
    "import pandas as pd\n",
    "from giskard.plot import histplot, matrixplot\n",
    "from graspologic.match import GraphMatch\n",
    "from graspologic.plot import heatmap\n",
    "from graspologic.utils import binarize\n",
    "from pkg.data import load_maggot_graph, load_unmatched\n",
    "from pkg.io import glue as default_glue\n",
    "from pkg.io import savefig\n",
    "from pkg.plot import set_theme\n",
    "from tqdm import tqdm\n",
    "\n",
    "DISPLAY_FIGS = True\n",
    "\n",
    "FILENAME = \"kc_stereotypy\"\n",
    "\n",
    "\n",
    "def gluefig(name, fig, **kwargs):\n",
    "    savefig(name, foldername=FILENAME, **kwargs)\n",
    "\n",
    "    glue(name, fig, figure=True)\n",
    "\n",
    "    if not DISPLAY_FIGS:\n",
    "        plt.close()\n",
    "\n",
    "\n",
    "def glue(name, var, **kwargs):\n",
    "    default_glue(name, var, FILENAME, **kwargs)\n",
    "\n",
    "\n",
    "t0 = time.time()\n",
    "set_theme()\n",
    "\n",
    "left_adj, left_nodes = load_unmatched(\"left\")\n",
    "right_adj, right_nodes = load_unmatched(\"right\")\n",
    "\n",
    "mg = load_maggot_graph()\n",
    "\n",
    "left_mg = mg.node_subgraph(mg[mg.nodes[\"left\"]].nodes.index)\n",
    "right_mg = mg.node_subgraph(mg[mg.nodes[\"right\"]].nodes.index)\n",
    "\n",
    "\n",
    "nodes = left_mg.nodes\n",
    "upns_left = nodes[nodes[\"merge_class\"] == \"uPN\"].index\n",
    "kcs_left = nodes[(nodes[\"class1\"] == \"KC\") & (nodes[\"merge_class\"] != \"KC-1claw\")].index\n",
    "\n",
    "nodes = right_mg.nodes\n",
    "upns_right = nodes[nodes[\"merge_class\"] == \"uPN\"].index\n",
    "kcs_right = nodes[\n",
    "    (nodes[\"class1\"] == \"KC\") & (nodes[\"merge_class\"] != \"KC-1claw\")\n",
    "].index"
   ]
  },
  {
   "cell_type": "code",
   "execution_count": 2,
   "id": "6c983aad",
   "metadata": {
    "execution": {
     "iopub.execute_input": "2022-04-29T13:49:43.411366Z",
     "iopub.status.busy": "2022-04-29T13:49:43.411100Z",
     "iopub.status.idle": "2022-04-29T13:49:43.516164Z",
     "shell.execute_reply": "2022-04-29T13:49:43.515655Z"
    },
    "lines_to_next_cell": 2,
    "tags": [
     "hide-input"
    ]
   },
   "outputs": [],
   "source": [
    "\n",
    "n_upns = len(upns_left)\n",
    "\n",
    "\n",
    "def remove_unconnected_kcs(adj, index, n_upns):\n",
    "    n_inputs = adj.sum(axis=0)\n",
    "    keep_mask = ~((n_inputs == 0) & (np.arange(len(n_inputs)) >= n_upns))\n",
    "    adj = adj[keep_mask][:, keep_mask]\n",
    "    index = index[keep_mask]\n",
    "    return adj, index\n",
    "\n",
    "\n",
    "left_index = np.concatenate((upns_left, kcs_left))\n",
    "left_mg.nodes = left_mg.nodes.reindex(left_index)\n",
    "left_subgraph_mg = left_mg.node_subgraph(upns_left, kcs_left)\n",
    "left_adj = binarize(left_subgraph_mg.sum.adj)\n",
    "\n",
    "left_adj, left_index = remove_unconnected_kcs(left_adj, left_index, n_upns)\n",
    "left_labels = np.array(n_upns * [\"uPN\"] + (len(left_adj) - n_upns) * [\"KC\"])\n",
    "\n",
    "right_index = np.concatenate((upns_right, kcs_right))\n",
    "right_mg.nodes = right_mg.nodes.reindex(right_index)\n",
    "right_subgraph_mg = right_mg.node_subgraph(upns_right, kcs_right)\n",
    "right_adj = binarize(right_subgraph_mg.sum.adj)\n",
    "\n",
    "right_adj, right_index = remove_unconnected_kcs(right_adj, right_index, n_upns)\n",
    "right_labels = np.array(n_upns * [\"uPN\"] + (len(right_adj) - n_upns) * [\"KC\"])"
   ]
  },
  {
   "cell_type": "code",
   "execution_count": 3,
   "id": "30793845",
   "metadata": {
    "execution": {
     "iopub.execute_input": "2022-04-29T13:49:43.518950Z",
     "iopub.status.busy": "2022-04-29T13:49:43.518759Z",
     "iopub.status.idle": "2022-04-29T13:49:43.879407Z",
     "shell.execute_reply": "2022-04-29T13:49:43.878884Z"
    },
    "tags": [
     "hide-input"
    ]
   },
   "outputs": [
    {
     "data": {
      "text/plain": [
       "<AxesSubplot:title={'center':'Right hemisphere'}>"
      ]
     },
     "execution_count": 3,
     "metadata": {},
     "output_type": "execute_result"
    },
    {
     "data": {
      "image/png": "[encoded data removed]",
      "text/plain": [
       "<Figure size 720x360 with 6 Axes>"
      ]
     },
     "metadata": {
      "needs_background": "light"
     },
     "output_type": "display_data"
    }
   ],
   "source": [
    "fig, axs = plt.subplots(1, 2, figsize=(10, 5))\n",
    "heatmap(\n",
    "    left_adj,\n",
    "    cbar=False,\n",
    "    inner_hier_labels=left_labels,\n",
    "    title=\"Left hemisphere\",\n",
    "    hier_label_fontsize=20,\n",
    "    font_scale=1.5,\n",
    "    ax=axs[0],\n",
    ")\n",
    "heatmap(\n",
    "    right_adj,\n",
    "    cbar=False,\n",
    "    inner_hier_labels=right_labels,\n",
    "    title=\"Right hemisphere\",\n",
    "    hier_label_fontsize=20,\n",
    "    font_scale=1.5,\n",
    "    ax=axs[1],\n",
    ")"
   ]
  },
  {
   "cell_type": "code",
   "execution_count": 4,
   "id": "5c6028ea",
   "metadata": {
    "execution": {
     "iopub.execute_input": "2022-04-29T13:49:43.882115Z",
     "iopub.status.busy": "2022-04-29T13:49:43.881933Z",
     "iopub.status.idle": "2022-04-29T13:49:43.931395Z",
     "shell.execute_reply": "2022-04-29T13:49:43.930817Z"
    },
    "tags": [
     "hide-input"
    ]
   },
   "outputs": [
    {
     "name": "stdout",
     "output_type": "stream",
     "text": [
      "Number of uPNs (L vs. R):\n",
      "21\n",
      "vs\n",
      "21\n",
      "\n",
      "Number of KCss (L vs. R):\n",
      "60\n",
      "vs\n",
      "59\n"
     ]
    }
   ],
   "source": [
    "print(\"Number of uPNs (L vs. R):\")\n",
    "print((left_labels == \"uPN\").sum())\n",
    "print(\"vs\")\n",
    "print((right_labels == \"uPN\").sum())\n",
    "print()\n",
    "print(\"Number of KCss (L vs. R):\")\n",
    "print((left_labels == \"KC\").sum())\n",
    "print(\"vs\")\n",
    "print((right_labels == \"KC\").sum())"
   ]
  },
  {
   "cell_type": "code",
   "execution_count": 5,
   "id": "e547a06c",
   "metadata": {
    "execution": {
     "iopub.execute_input": "2022-04-29T13:49:43.933918Z",
     "iopub.status.busy": "2022-04-29T13:49:43.933756Z",
     "iopub.status.idle": "2022-04-29T13:49:44.256026Z",
     "shell.execute_reply": "2022-04-29T13:49:44.255581Z"
    },
    "lines_to_next_cell": 0,
    "tags": [
     "hide-input"
    ]
   },
   "outputs": [
    {
     "data": {
      "image/png": "[encoded data removed]",
      "text/plain": [
       "<Figure size 576x576 with 3 Axes>"
      ]
     },
     "metadata": {},
     "output_type": "display_data"
    }
   ],
   "source": [
    "\n",
    "\n",
    "A = right_adj\n",
    "B = left_adj\n",
    "\n",
    "n_upns = len(upns_left)\n",
    "\n",
    "gm = GraphMatch(n_init=25)\n",
    "\n",
    "gm.fit(A, B, seeds_A=np.arange(n_upns), seeds_B=np.arange(n_upns))\n",
    "\n",
    "perm_inds = gm.perm_inds_[: len(A)]\n",
    "\n",
    "B_perm = B[perm_inds][:, perm_inds]\n",
    "\n",
    "diff = A - B_perm\n",
    "fig, axs = plt.subplots(3, 1, figsize=(8, 8))\n",
    "\n",
    "matrixplot(B[:n_upns, n_upns:], cbar=False, ax=axs[0])\n",
    "matrixplot(A[:n_upns, n_upns:], cbar=False, ax=axs[1])\n",
    "matrixplot(diff[:n_upns, n_upns:], cbar=False, ax=axs[2])\n",
    "\n",
    "# axs[0].set_title(\"KCs (graph matched)\")\n",
    "axs[0].set_ylabel(\"Left\", rotation=0, ha=\"right\")\n",
    "axs[1].set_ylabel(\"Right\", rotation=0, ha=\"right\")\n",
    "axs[2].set_ylabel(\"L - R\", rotation=0, ha=\"right\")\n",
    "\n",
    "fig.set_facecolor(\"w\")"
   ]
  },
  {
   "cell_type": "code",
   "execution_count": 6,
   "id": "7caf51c3",
   "metadata": {
    "execution": {
     "iopub.execute_input": "2022-04-29T13:49:44.258454Z",
     "iopub.status.busy": "2022-04-29T13:49:44.258280Z",
     "iopub.status.idle": "2022-04-29T13:49:44.307026Z",
     "shell.execute_reply": "2022-04-29T13:49:44.306562Z"
    },
    "lines_to_next_cell": 2,
    "tags": [
     "hide-input"
    ]
   },
   "outputs": [],
   "source": [
    "\n",
    "\n",
    "def compute_density(adjacency, loops=False):\n",
    "    if not loops:\n",
    "        triu_inds = np.triu_indices_from(adjacency, k=1)\n",
    "        tril_inds = np.tril_indices_from(adjacency, k=-1)\n",
    "        n_edges = np.count_nonzero(adjacency[triu_inds]) + np.count_nonzero(\n",
    "            adjacency[tril_inds]\n",
    "        )\n",
    "    else:\n",
    "        n_edges = np.count_nonzero(adjacency)\n",
    "    n_nodes = adjacency.shape[0]\n",
    "    n_possible = n_nodes**2\n",
    "    if not loops:\n",
    "        n_possible -= n_nodes\n",
    "    return n_edges / n_possible\n",
    "\n",
    "\n",
    "def compute_alignment_strength(A, B, perm=None):\n",
    "    n = A.shape[0]\n",
    "    if perm is not None:\n",
    "        B_perm = B[perm][:, perm]\n",
    "    else:\n",
    "        B_perm = B\n",
    "    n_disagreements = np.count_nonzero(A - B_perm)  # TODO this assumes loopless\n",
    "    p_disagreements = n_disagreements / (n**2 - n)\n",
    "    densityA = compute_density(A)\n",
    "    densityB = compute_density(B)\n",
    "    denominator = densityA * (1 - densityB) + densityB * (1 - densityA)\n",
    "    alignment_strength = 1 - p_disagreements / denominator\n",
    "    return alignment_strength\n",
    "\n",
    "\n",
    "def obj_func(A, B, perm):\n",
    "    PBPT = B[perm[: len(A)]][:, perm[: len(A)]]\n",
    "    return np.linalg.norm(A - PBPT, ord=\"fro\") ** 2, PBPT"
   ]
  },
  {
   "cell_type": "code",
   "execution_count": 7,
   "id": "12611d64",
   "metadata": {
    "execution": {
     "iopub.execute_input": "2022-04-29T13:49:44.309728Z",
     "iopub.status.busy": "2022-04-29T13:49:44.309555Z",
     "iopub.status.idle": "2022-04-29T13:50:01.216207Z",
     "shell.execute_reply": "2022-04-29T13:50:01.215720Z"
    },
    "tags": [
     "hide-input"
    ]
   },
   "outputs": [
    {
     "name": "stderr",
     "output_type": "stream",
     "text": [
      "100%|███████████████████████████████████████████████████████████████████████████████████████████████████████████████████████████████████████████████████████████████████████| 500/500 [00:16<00:00, 29.77it/s]\n"
     ]
    }
   ],
   "source": [
    "\n",
    "\n",
    "n_init = 25\n",
    "\n",
    "rows = []\n",
    "\n",
    "gm = GraphMatch(n_init=n_init)\n",
    "gm.fit(A, B, seeds_A=np.arange(n_upns), seeds_B=np.arange(n_upns))\n",
    "perm_inds = gm.perm_inds_\n",
    "score, B_perm = obj_func(A, B, perm_inds)\n",
    "alignment = compute_alignment_strength(A, B_perm)\n",
    "\n",
    "rows.append({\"data\": \"Observed\", \"score\": score, \"alignment\": alignment})\n",
    "\n",
    "\n",
    "def get_subgraph(A):\n",
    "    return A[:n_upns, n_upns:]\n",
    "\n",
    "\n",
    "def make_subgraph(A):\n",
    "    A = A.copy()\n",
    "    # all KC to upn\n",
    "    A[n_upns:] = 0\n",
    "    # all PN to PN\n",
    "    A[:n_upns, :n_upns] = 0\n",
    "    return A\n",
    "\n",
    "\n",
    "def er_subgraph(size, p, rng=None):\n",
    "    subgraph = rng.binomial(1, p, size=size)\n",
    "    n = size[0] + size[1]\n",
    "    A = np.zeros((n, n))\n",
    "    A[:n_upns, n_upns:] = subgraph\n",
    "    return A\n",
    "\n",
    "\n",
    "A_sub_adj = get_subgraph(A)\n",
    "B_sub_adj = get_subgraph(B)\n",
    "\n",
    "p_A = np.count_nonzero(A_sub_adj) / A_sub_adj.size\n",
    "p_B = np.count_nonzero(B_sub_adj) / B_sub_adj.size\n",
    "n = A_sub_adj.shape[1]\n",
    "\n",
    "rng = np.random.default_rng(8888)\n",
    "n_sims = 500\n",
    "\n",
    "for sim in tqdm(range(n_sims)):\n",
    "    A_sim = er_subgraph(A_sub_adj.shape, p_A, rng)\n",
    "    B_sim = er_subgraph(A_sub_adj.shape, p_B, rng)\n",
    "\n",
    "    gm = GraphMatch(n_init=n_init)\n",
    "    gm.fit(A_sim, B_sim, seeds_A=np.arange(n_upns), seeds_B=np.arange(n_upns))\n",
    "    perm_inds = gm.perm_inds_\n",
    "    score, B_sim_perm = obj_func(A_sim, B_sim, perm_inds)\n",
    "    alignment = compute_alignment_strength(A_sim, B_sim_perm)\n",
    "\n",
    "    rows.append({\"data\": \"ER\", \"score\": score, \"alignment\": alignment})\n",
    "\n",
    "results = pd.DataFrame(rows)"
   ]
  },
  {
   "cell_type": "code",
   "execution_count": 8,
   "id": "68474d9e",
   "metadata": {
    "execution": {
     "iopub.execute_input": "2022-04-29T13:50:01.218955Z",
     "iopub.status.busy": "2022-04-29T13:50:01.218766Z",
     "iopub.status.idle": "2022-04-29T13:50:01.279086Z",
     "shell.execute_reply": "2022-04-29T13:50:01.278553Z"
    },
    "tags": [
     "hide-input"
    ]
   },
   "outputs": [],
   "source": [
    "observed_alignment = results[results[\"data\"] == \"Observed\"].iloc[0][\"alignment\"]\n",
    "prop_less_than = (\n",
    "    results[results[\"data\"] == \"ER\"][\"alignment\"].values < observed_alignment\n",
    ").mean()"
   ]
  },
  {
   "cell_type": "code",
   "execution_count": 9,
   "id": "8d207c4a",
   "metadata": {
    "execution": {
     "iopub.execute_input": "2022-04-29T13:50:01.281818Z",
     "iopub.status.busy": "2022-04-29T13:50:01.281619Z",
     "iopub.status.idle": "2022-04-29T13:50:03.338499Z",
     "shell.execute_reply": "2022-04-29T13:50:03.337997Z"
    },
    "tags": [
     "hide-input"
    ]
   },
   "outputs": [
    {
     "data": {
      "application/papermill.record/image/png": "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\n",
      "application/papermill.record/text/plain": "<Figure size 576x432 with 1 Axes>"
     },
     "metadata": {
      "scrapbook": {
       "mime_prefix": "application/papermill.record/",
       "name": "fig:kc_stereotypy-alignment_dist"
      }
     },
     "output_type": "display_data"
    },
    {
     "data": {
      "image/png": "[encoded data removed]",
      "text/plain": [
       "<Figure size 576x432 with 1 Axes>"
      ]
     },
     "metadata": {
      "needs_background": "light"
     },
     "output_type": "display_data"
    }
   ],
   "source": [
    "\n",
    "fig, ax = plt.subplots(1, 1, figsize=(8, 6))\n",
    "histplot(data=results, x=\"alignment\", hue=\"data\", kde=True, ax=ax)\n",
    "ax.set(ylabel=\"\", yticks=[], xlabel=\"Alignment strength\")\n",
    "ax.spines[\"left\"].set_visible(False)\n",
    "\n",
    "gluefig(\"alignment_dist\", fig)"
   ]
  },
  {
   "cell_type": "code",
   "execution_count": 10,
   "id": "28b8d27e",
   "metadata": {
    "execution": {
     "iopub.execute_input": "2022-04-29T13:50:03.341361Z",
     "iopub.status.busy": "2022-04-29T13:50:03.341152Z",
     "iopub.status.idle": "2022-04-29T13:50:03.400878Z",
     "shell.execute_reply": "2022-04-29T13:50:03.400066Z"
    },
    "tags": [
     "hide-input"
    ]
   },
   "outputs": [
    {
     "name": "stdout",
     "output_type": "stream",
     "text": [
      "Script took 0:00:25.703339\n",
      "Completed at 2022-04-29 09:50:03.397751\n"
     ]
    }
   ],
   "source": [
    "elapsed = time.time() - t0\n",
    "delta = datetime.timedelta(seconds=elapsed)\n",
    "print(f\"Script took {delta}\")\n",
    "print(f\"Completed at {datetime.datetime.now()}\")"
   ]
  }
 ],
 "metadata": {
  "jupytext": {
   "cell_metadata_filter": "-all",
   "main_language": "python",
   "notebook_metadata_filter": "-all"
  },
  "language_info": {
   "codemirror_mode": {
    "name": "ipython",
    "version": 3
   },
   "file_extension": ".py",
   "mimetype": "text/x-python",
   "name": "python",
   "nbconvert_exporter": "python",
   "pygments_lexer": "ipython3",
   "version": "3.9.7"
  }
 },
 "nbformat": 4,
 "nbformat_minor": 5
}
