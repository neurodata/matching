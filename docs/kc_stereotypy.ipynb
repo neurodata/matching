{
 "cells": [
  {
   "cell_type": "markdown",
   "id": "1d022014",
   "metadata": {
    "lines_to_next_cell": 0
   },
   "source": [
    "# Left/Right stereotypy in Kenyon cells\n",
    "Here we investigate whether the connections from projection neurons (PNs) to Kenyon\n",
    "cells (KCs) have a \"stereotyped\" structure. By stereotyped, we mean whether there is\n",
    "correlation in the edge structure between multiple samples of this subgraph. Here,\n",
    "we compare the left and right subgraphs for a single larval connectome (Eichler et al.\n",
    "Nature 2017)."
   ]
  },
  {
   "cell_type": "code",
   "execution_count": 1,
   "id": "ab8ab575",
   "metadata": {
    "execution": {
     "iopub.execute_input": "2022-05-09T17:09:44.739166Z",
     "iopub.status.busy": "2022-05-09T17:09:44.738899Z",
     "iopub.status.idle": "2022-05-09T17:09:57.762920Z",
     "shell.execute_reply": "2022-05-09T17:09:57.762196Z"
    },
    "tags": [
     "hide-input"
    ]
   },
   "outputs": [],
   "source": [
    "\n",
    "import datetime\n",
    "import time\n",
    "\n",
    "import matplotlib.pyplot as plt\n",
    "import numpy as np\n",
    "import pandas as pd\n",
    "from giskard.plot import histplot, matrixplot\n",
    "from graspologic.match import GraphMatch\n",
    "from graspologic.plot import heatmap\n",
    "from graspologic.utils import binarize\n",
    "from pkg.data import load_maggot_graph, load_unmatched\n",
    "from pkg.io import glue as default_glue\n",
    "from pkg.io import savefig\n",
    "from pkg.plot import set_theme\n",
    "from tqdm import tqdm\n",
    "\n",
    "DISPLAY_FIGS = True\n",
    "\n",
    "FILENAME = \"kc_stereotypy\"\n",
    "\n",
    "\n",
    "def gluefig(name, fig, **kwargs):\n",
    "    savefig(name, foldername=FILENAME, **kwargs)\n",
    "\n",
    "    glue(name, fig, figure=True)\n",
    "\n",
    "    if not DISPLAY_FIGS:\n",
    "        plt.close()\n",
    "\n",
    "\n",
    "def glue(name, var, **kwargs):\n",
    "    default_glue(name, var, FILENAME, **kwargs)\n",
    "\n",
    "\n",
    "t0 = time.time()\n",
    "set_theme()\n",
    "rng = np.random.default_rng(8888)\n",
    "\n",
    "left_adj, left_nodes = load_unmatched(\"left\")\n",
    "right_adj, right_nodes = load_unmatched(\"right\")\n",
    "\n",
    "mg = load_maggot_graph()\n",
    "\n",
    "left_mg = mg.node_subgraph(mg[mg.nodes[\"left\"]].nodes.index)\n",
    "right_mg = mg.node_subgraph(mg[mg.nodes[\"right\"]].nodes.index)"
   ]
  },
  {
   "cell_type": "markdown",
   "id": "9f731a11",
   "metadata": {},
   "source": [
    "## Data\n",
    "For this investigation, we select the uniglomerular PNs and their\n",
    "connections to the multi-claw KCs, as these are the specific projections\n",
    "which are thought to be \"unstructured\" in their connectivity.\n",
    "\n",
    "We also remove any KCs which do not recieve a projection from one of these\n",
    "PNs."
   ]
  },
  {
   "cell_type": "code",
   "execution_count": 2,
   "id": "fb27a9ce",
   "metadata": {
    "execution": {
     "iopub.execute_input": "2022-05-09T17:09:57.766605Z",
     "iopub.status.busy": "2022-05-09T17:09:57.766382Z",
     "iopub.status.idle": "2022-05-09T17:09:57.823227Z",
     "shell.execute_reply": "2022-05-09T17:09:57.822611Z"
    },
    "tags": [
     "hide-input"
    ]
   },
   "outputs": [],
   "source": [
    "nodes = left_mg.nodes\n",
    "upns_left = nodes[nodes[\"merge_class\"] == \"uPN\"].index\n",
    "kcs_left = nodes[(nodes[\"class1\"] == \"KC\") & (nodes[\"merge_class\"] != \"KC-1claw\")].index\n",
    "\n",
    "nodes = right_mg.nodes\n",
    "upns_right = nodes[nodes[\"merge_class\"] == \"uPN\"].index\n",
    "kcs_right = nodes[\n",
    "    (nodes[\"class1\"] == \"KC\") & (nodes[\"merge_class\"] != \"KC-1claw\")\n",
    "].index"
   ]
  },
  {
   "cell_type": "code",
   "execution_count": 3,
   "id": "d64b7f52",
   "metadata": {
    "execution": {
     "iopub.execute_input": "2022-05-09T17:09:57.826253Z",
     "iopub.status.busy": "2022-05-09T17:09:57.826042Z",
     "iopub.status.idle": "2022-05-09T17:09:57.921466Z",
     "shell.execute_reply": "2022-05-09T17:09:57.920795Z"
    },
    "tags": [
     "hide-input"
    ]
   },
   "outputs": [],
   "source": [
    "\n",
    "n_upns = len(upns_left)\n",
    "\n",
    "\n",
    "def remove_unconnected_kcs(adj, index, n_upns):\n",
    "    n_inputs = adj.sum(axis=0)\n",
    "    keep_mask = ~((n_inputs == 0) & (np.arange(len(n_inputs)) >= n_upns))\n",
    "    adj = adj[keep_mask][:, keep_mask]\n",
    "    index = index[keep_mask]\n",
    "    return adj, index\n",
    "\n",
    "\n",
    "left_index = np.concatenate((upns_left, kcs_left))\n",
    "left_mg.nodes = left_mg.nodes.reindex(left_index)\n",
    "left_subgraph_mg = left_mg.node_subgraph(upns_left, kcs_left)\n",
    "left_adj = binarize(left_subgraph_mg.sum.adj)\n",
    "\n",
    "left_adj, left_index = remove_unconnected_kcs(left_adj, left_index, n_upns)\n",
    "left_labels = np.array(n_upns * [\"uPN\"] + (len(left_adj) - n_upns) * [\"KC\"])\n",
    "\n",
    "right_index = np.concatenate((upns_right, kcs_right))\n",
    "right_mg.nodes = right_mg.nodes.reindex(right_index)\n",
    "right_subgraph_mg = right_mg.node_subgraph(upns_right, kcs_right)\n",
    "right_adj = binarize(right_subgraph_mg.sum.adj)\n",
    "\n",
    "right_adj, right_index = remove_unconnected_kcs(right_adj, right_index, n_upns)\n",
    "right_labels = np.array(n_upns * [\"uPN\"] + (len(right_adj) - n_upns) * [\"KC\"])"
   ]
  },
  {
   "cell_type": "code",
   "execution_count": 4,
   "id": "4e2e5d0d",
   "metadata": {
    "execution": {
     "iopub.execute_input": "2022-05-09T17:09:57.924470Z",
     "iopub.status.busy": "2022-05-09T17:09:57.924168Z",
     "iopub.status.idle": "2022-05-09T17:09:57.976281Z",
     "shell.execute_reply": "2022-05-09T17:09:57.975772Z"
    },
    "tags": [
     "hide-input"
    ]
   },
   "outputs": [
    {
     "name": "stdout",
     "output_type": "stream",
     "text": [
      "Number of uPNs (L vs. R):\n",
      "21\n",
      "vs\n",
      "21\n",
      "\n",
      "Number of KCs (L vs. R):\n",
      "60\n",
      "vs\n",
      "59\n"
     ]
    }
   ],
   "source": [
    "print(\"Number of uPNs (L vs. R):\")\n",
    "print((left_labels == \"uPN\").sum())\n",
    "print(\"vs\")\n",
    "print((right_labels == \"uPN\").sum())\n",
    "print()\n",
    "print(\"Number of KCs (L vs. R):\")\n",
    "print((left_labels == \"KC\").sum())\n",
    "print(\"vs\")\n",
    "print((right_labels == \"KC\").sum())"
   ]
  },
  {
   "cell_type": "markdown",
   "id": "8175daa8",
   "metadata": {},
   "source": [
    "Below we plot these subgraphs as adjacency matrices - note that there are a lot of\n",
    "0s because of how we defined the subgraphs."
   ]
  },
  {
   "cell_type": "code",
   "execution_count": 5,
   "id": "accb2672",
   "metadata": {
    "execution": {
     "iopub.execute_input": "2022-05-09T17:09:57.979183Z",
     "iopub.status.busy": "2022-05-09T17:09:57.978987Z",
     "iopub.status.idle": "2022-05-09T17:10:01.549116Z",
     "shell.execute_reply": "2022-05-09T17:10:01.548605Z"
    },
    "tags": [
     "hide-input"
    ]
   },
   "outputs": [
    {
     "data": {
      "application/papermill.record/image/png": "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\n",
      "application/papermill.record/text/plain": "<Figure size 720x360 with 6 Axes>"
     },
     "metadata": {
      "scrapbook": {
       "mime_prefix": "application/papermill.record/",
       "name": "fig:kc_stereotypy-left_right_adjs"
      }
     },
     "output_type": "display_data"
    },
    {
     "data": {
      "image/png": "[encoded data removed]",
      "text/plain": [
       "<Figure size 720x360 with 6 Axes>"
      ]
     },
     "metadata": {
      "needs_background": "light"
     },
     "output_type": "display_data"
    }
   ],
   "source": [
    "fig, axs = plt.subplots(1, 2, figsize=(10, 5))\n",
    "heatmap(\n",
    "    left_adj,\n",
    "    cbar=False,\n",
    "    inner_hier_labels=left_labels,\n",
    "    title=\"Left hemisphere\",\n",
    "    hier_label_fontsize=20,\n",
    "    font_scale=1.5,\n",
    "    ax=axs[0],\n",
    ")\n",
    "_ = heatmap(\n",
    "    right_adj,\n",
    "    cbar=False,\n",
    "    inner_hier_labels=right_labels,\n",
    "    title=\"Right hemisphere\",\n",
    "    hier_label_fontsize=20,\n",
    "    font_scale=1.5,\n",
    "    ax=axs[1],\n",
    ")\n",
    "gluefig(\"left_right_adjs\", fig)"
   ]
  },
  {
   "cell_type": "markdown",
   "id": "6af0bbb9",
   "metadata": {},
   "source": [
    "## Matching\n",
    "Now, we try to match the left to the right subgraphs. The identity of the PNs are\n",
    "known (i.e. we know the pairing for these neurons). Thus, we treat the PNs as seeds,\n",
    "and try to optimize the permutation of Kenyon cells to minimize edge disagreements."
   ]
  },
  {
   "cell_type": "code",
   "execution_count": 6,
   "id": "57b8e11d",
   "metadata": {
    "execution": {
     "iopub.execute_input": "2022-05-09T17:10:01.551748Z",
     "iopub.status.busy": "2022-05-09T17:10:01.551588Z",
     "iopub.status.idle": "2022-05-09T17:10:01.601093Z",
     "shell.execute_reply": "2022-05-09T17:10:01.600564Z"
    },
    "tags": [
     "hide-input"
    ]
   },
   "outputs": [],
   "source": [
    "\n",
    "\n",
    "def compute_density(adjacency, loops=False):\n",
    "    if not loops:\n",
    "        triu_inds = np.triu_indices_from(adjacency, k=1)\n",
    "        tril_inds = np.tril_indices_from(adjacency, k=-1)\n",
    "        n_edges = np.count_nonzero(adjacency[triu_inds]) + np.count_nonzero(\n",
    "            adjacency[tril_inds]\n",
    "        )\n",
    "    else:\n",
    "        n_edges = np.count_nonzero(adjacency)\n",
    "    n_nodes = adjacency.shape[0]\n",
    "    n_possible = n_nodes**2\n",
    "    if not loops:\n",
    "        n_possible -= n_nodes\n",
    "    return n_edges / n_possible\n",
    "\n",
    "\n",
    "def compute_alignment_strength(A, B, perm=None):\n",
    "    n = A.shape[0]\n",
    "    if perm is not None:\n",
    "        B_perm = B[perm][:, perm]\n",
    "    else:\n",
    "        B_perm = B\n",
    "    n_disagreements = np.count_nonzero(A - B_perm)  # TODO this assumes loopless\n",
    "    p_disagreements = n_disagreements / (n**2 - n)\n",
    "    densityA = compute_density(A)\n",
    "    densityB = compute_density(B)\n",
    "    denominator = densityA * (1 - densityB) + densityB * (1 - densityA)\n",
    "    alignment_strength = 1 - p_disagreements / denominator\n",
    "    return alignment_strength\n",
    "\n",
    "\n",
    "def obj_func(A, B, perm):\n",
    "    PBPT = B[perm[: len(A)]][:, perm[: len(A)]]\n",
    "    return np.linalg.norm(A - PBPT, ord=\"fro\") ** 2, PBPT"
   ]
  },
  {
   "cell_type": "code",
   "execution_count": 7,
   "id": "1158397d",
   "metadata": {
    "execution": {
     "iopub.execute_input": "2022-05-09T17:10:01.603734Z",
     "iopub.status.busy": "2022-05-09T17:10:01.603574Z",
     "iopub.status.idle": "2022-05-09T17:10:01.658231Z",
     "shell.execute_reply": "2022-05-09T17:10:01.657733Z"
    },
    "tags": [
     "hide-input"
    ]
   },
   "outputs": [
    {
     "data": {
      "application/papermill.record/text/plain": "0.5771779959183929"
     },
     "metadata": {
      "scrapbook": {
       "mime_prefix": "application/papermill.record/",
       "name": "kc_stereotypy-alignment_observed"
      }
     },
     "output_type": "display_data"
    }
   ],
   "source": [
    "\n",
    "A = right_adj\n",
    "B = left_adj\n",
    "n_init = 1\n",
    "\n",
    "gm = GraphMatch(n_init=n_init)\n",
    "\n",
    "gm.fit(A, B, seeds_A=np.arange(n_upns), seeds_B=np.arange(n_upns))\n",
    "\n",
    "perm_inds = gm.perm_inds_\n",
    "score, B_perm = obj_func(A, B, perm_inds)\n",
    "alignment = compute_alignment_strength(A, B_perm)\n",
    "glue(\"alignment_observed\", alignment)\n",
    "\n",
    "rows = []\n",
    "rows.append({\"data\": \"Observed\", \"score\": score, \"alignment\": alignment})"
   ]
  },
  {
   "cell_type": "markdown",
   "id": "49daec0d",
   "metadata": {},
   "source": [
    "Below we plot the PN (rows) to KC (columns) subgraphs under a permutation predicted\n",
    "by seeded graph matching. We show the left subgraph (top), the right subgraph (middle),\n",
    "and the difference (left - right) such that any red values indicate an edge on the left\n",
    "which is not present in the right, and a blue value indicates an edge on the right\n",
    "which is not in the right."
   ]
  },
  {
   "cell_type": "code",
   "execution_count": 8,
   "id": "026c51f2",
   "metadata": {
    "execution": {
     "iopub.execute_input": "2022-05-09T17:10:01.662147Z",
     "iopub.status.busy": "2022-05-09T17:10:01.661927Z",
     "iopub.status.idle": "2022-05-09T17:10:03.431941Z",
     "shell.execute_reply": "2022-05-09T17:10:03.431237Z"
    },
    "tags": [
     "hide-input"
    ]
   },
   "outputs": [
    {
     "data": {
      "application/papermill.record/image/png": "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\n",
      "application/papermill.record/text/plain": "<Figure size 576x576 with 3 Axes>"
     },
     "metadata": {
      "scrapbook": {
       "mime_prefix": "application/papermill.record/",
       "name": "fig:kc_stereotypy-matched_subgraphs"
      }
     },
     "output_type": "display_data"
    },
    {
     "data": {
      "image/png": "[encoded data removed]",
      "text/plain": [
       "<Figure size 576x576 with 3 Axes>"
      ]
     },
     "metadata": {},
     "output_type": "display_data"
    }
   ],
   "source": [
    "\n",
    "diff = A - B_perm\n",
    "fig, axs = plt.subplots(3, 1, figsize=(8, 8))\n",
    "\n",
    "matrixplot(B[:n_upns, n_upns:], cbar=False, ax=axs[0])\n",
    "matrixplot(A[:n_upns, n_upns:], cbar=False, ax=axs[1])\n",
    "matrixplot(diff[:n_upns, n_upns:], cbar=False, ax=axs[2])\n",
    "\n",
    "# axs[0].set_title(\"KCs (graph matched)\")\n",
    "axs[0].set_ylabel(\"Left\", rotation=0, ha=\"right\")\n",
    "axs[1].set_ylabel(\"Right\", rotation=0, ha=\"right\")\n",
    "axs[2].set_ylabel(\"L - R\", rotation=0, ha=\"right\")\n",
    "\n",
    "fig.set_facecolor(\"w\")\n",
    "\n",
    "gluefig(\"matched_subgraphs\", fig)"
   ]
  },
  {
   "cell_type": "markdown",
   "id": "590b3ebf",
   "metadata": {},
   "source": [
    "We also compute a metric to measure the degree of overlap between the matched \n",
    "subgraphs. "
   ]
  },
  {
   "cell_type": "markdown",
   "id": "b57bc89e",
   "metadata": {},
   "source": [
    "## Comparing our edge disagreements to a null model"
   ]
  },
  {
   "cell_type": "code",
   "execution_count": 9,
   "id": "04aa0ec3",
   "metadata": {
    "execution": {
     "iopub.execute_input": "2022-05-09T17:10:03.434972Z",
     "iopub.status.busy": "2022-05-09T17:10:03.434780Z",
     "iopub.status.idle": "2022-05-09T17:10:05.603780Z",
     "shell.execute_reply": "2022-05-09T17:10:05.603216Z"
    },
    "tags": [
     "hide-input"
    ]
   },
   "outputs": [
    {
     "data": {
      "application/papermill.record/text/plain": "1000"
     },
     "metadata": {
      "scrapbook": {
       "mime_prefix": "application/papermill.record/",
       "name": "kc_stereotypy-n_sims"
      }
     },
     "output_type": "display_data"
    },
    {
     "name": "stderr",
     "output_type": "stream",
     "text": [
      "                                                                                                                                                                                 \r"
     ]
    }
   ],
   "source": [
    "\n",
    "\n",
    "def get_subgraph(A):\n",
    "    return A[:n_upns, n_upns:]\n",
    "\n",
    "\n",
    "def make_subgraph(A):\n",
    "    A = A.copy()\n",
    "    # all KC to upn\n",
    "    A[n_upns:] = 0\n",
    "    # all PN to PN\n",
    "    A[:n_upns, :n_upns] = 0\n",
    "    return A\n",
    "\n",
    "\n",
    "def er_subgraph(size, p, rng=None):\n",
    "    subgraph = rng.binomial(1, p, size=size)\n",
    "    n = size[0] + size[1]\n",
    "    A = np.zeros((n, n))\n",
    "    A[:n_upns, n_upns:] = subgraph\n",
    "    return A\n",
    "\n",
    "\n",
    "A_sub_adj = get_subgraph(A)\n",
    "B_sub_adj = get_subgraph(B)\n",
    "\n",
    "p_A = np.count_nonzero(A_sub_adj) / A_sub_adj.size\n",
    "p_B = np.count_nonzero(B_sub_adj) / B_sub_adj.size\n",
    "n = A_sub_adj.shape[1]\n",
    "\n",
    "n_sims = 1000\n",
    "glue(\"n_sims\", n_sims)\n",
    "\n",
    "for sim in tqdm(range(n_sims), leave=False):\n",
    "    A_sim = er_subgraph(A_sub_adj.shape, p_A, rng)\n",
    "    B_sim = er_subgraph(A_sub_adj.shape, p_B, rng)\n",
    "\n",
    "    gm = GraphMatch(n_init=n_init)\n",
    "    gm.fit(A_sim, B_sim, seeds_A=np.arange(n_upns), seeds_B=np.arange(n_upns))\n",
    "    perm_inds = gm.perm_inds_\n",
    "    score, B_sim_perm = obj_func(A_sim, B_sim, perm_inds)\n",
    "    alignment = compute_alignment_strength(A_sim, B_sim_perm)\n",
    "\n",
    "    rows.append({\"data\": \"ER\", \"score\": score, \"alignment\": alignment})\n",
    "\n",
    "results = pd.DataFrame(rows)"
   ]
  },
  {
   "cell_type": "code",
   "execution_count": 10,
   "id": "aa9f5c0b",
   "metadata": {
    "execution": {
     "iopub.execute_input": "2022-05-09T17:10:05.606544Z",
     "iopub.status.busy": "2022-05-09T17:10:05.606335Z",
     "iopub.status.idle": "2022-05-09T17:10:05.674861Z",
     "shell.execute_reply": "2022-05-09T17:10:05.674107Z"
    },
    "tags": [
     "hide-input"
    ]
   },
   "outputs": [],
   "source": [
    "observed_alignment = results[results[\"data\"] == \"Observed\"].iloc[0][\"alignment\"]\n",
    "prop_less_than = (\n",
    "    results[results[\"data\"] == \"ER\"][\"alignment\"].values < observed_alignment\n",
    ").mean()"
   ]
  },
  {
   "cell_type": "code",
   "execution_count": 11,
   "id": "7680a2e3",
   "metadata": {
    "execution": {
     "iopub.execute_input": "2022-05-09T17:10:05.677882Z",
     "iopub.status.busy": "2022-05-09T17:10:05.677665Z",
     "iopub.status.idle": "2022-05-09T17:10:07.313937Z",
     "shell.execute_reply": "2022-05-09T17:10:07.313315Z"
    },
    "tags": [
     "hide-input"
    ]
   },
   "outputs": [
    {
     "data": {
      "application/papermill.record/image/png": "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\n",
      "application/papermill.record/text/plain": "<Figure size 576x432 with 1 Axes>"
     },
     "metadata": {
      "scrapbook": {
       "mime_prefix": "application/papermill.record/",
       "name": "fig:kc_stereotypy-alignment_dist"
      }
     },
     "output_type": "display_data"
    },
    {
     "data": {
      "image/png": "[encoded data removed]",
      "text/plain": [
       "<Figure size 576x432 with 1 Axes>"
      ]
     },
     "metadata": {
      "needs_background": "light"
     },
     "output_type": "display_data"
    }
   ],
   "source": [
    "\n",
    "fig, ax = plt.subplots(1, 1, figsize=(8, 6))\n",
    "histplot(data=results, x=\"alignment\", hue=\"data\", kde=True, ax=ax)\n",
    "ax.set(ylabel=\"\", yticks=[], xlabel=\"Alignment strength\")\n",
    "ax.spines[\"left\"].set_visible(False)\n",
    "\n",
    "gluefig(\"alignment_dist\", fig)"
   ]
  },
  {
   "cell_type": "markdown",
   "id": "2d8ffab5",
   "metadata": {
    "lines_to_next_cell": 0
   },
   "source": [
    "## Questions/thoughts\n",
    "```{admonition} Question\n",
    ":class: tip\n",
    "Should I be doing anything special for the matching since this is a bipartite seeded \n",
    "graph matching problem? \n",
    "\n",
    "Here, we have a special case since in addition to being bipartite, \n",
    "we have a fixed matching (i.e. seeds) for one of the \"parts.\" Thus, I believe graph\n",
    "matching in this case reduces to solving a linear assignment problem to do\n",
    "\n",
    "$$\n",
    "\\min_P tr(P^T A_{12}^T B_{12})\n",
    "$$\n",
    " \n",
    "where $A_{12}$ is the subgraph of connections from seeded (PN) to nonseeded (KC) on\n",
    "one hemisphere, and $B_{12}$ is defined likewise for the other hemisphere.\n",
    "```\n",
    "\n",
    "```{admonition} Question\n",
    ":class: tip\n",
    "How exactly should I compute alignment strength here? There are a couple of weirdnesses, \n",
    "\n",
    "```\n"
   ]
  },
  {
   "cell_type": "markdown",
   "id": "22c663d7",
   "metadata": {
    "lines_to_next_cell": 0
   },
   "source": [
    "## End"
   ]
  },
  {
   "cell_type": "code",
   "execution_count": 12,
   "id": "fa6050d0",
   "metadata": {
    "execution": {
     "iopub.execute_input": "2022-05-09T17:10:07.316920Z",
     "iopub.status.busy": "2022-05-09T17:10:07.316720Z",
     "iopub.status.idle": "2022-05-09T17:10:07.370454Z",
     "shell.execute_reply": "2022-05-09T17:10:07.369700Z"
    },
    "tags": [
     "hide-input"
    ]
   },
   "outputs": [
    {
     "name": "stdout",
     "output_type": "stream",
     "text": [
      "Script took 0:00:15.486328\n",
      "Completed at 2022-05-09 13:10:07.367931\n"
     ]
    }
   ],
   "source": [
    "elapsed = time.time() - t0\n",
    "delta = datetime.timedelta(seconds=elapsed)\n",
    "print(f\"Script took {delta}\")\n",
    "print(f\"Completed at {datetime.datetime.now()}\")"
   ]
  }
 ],
 "metadata": {
  "jupytext": {
   "cell_metadata_filter": "-all",
   "main_language": "python",
   "notebook_metadata_filter": "-all"
  },
  "language_info": {
   "codemirror_mode": {
    "name": "ipython",
    "version": 3
   },
   "file_extension": ".py",
   "mimetype": "text/x-python",
   "name": "python",
   "nbconvert_exporter": "python",
   "pygments_lexer": "ipython3",
   "version": "3.9.7"
  }
 },
 "nbformat": 4,
 "nbformat_minor": 5
}
